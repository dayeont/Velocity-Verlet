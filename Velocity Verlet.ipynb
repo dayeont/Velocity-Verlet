{
 "cells": [
  {
   "cell_type": "markdown",
   "metadata": {
    "slideshow": {
     "slide_type": "slide"
    }
   },
   "source": [
    "# Velocity Verlet algorithm in Molecular dynamics "
   ]
  },
  {
   "cell_type": "markdown",
   "metadata": {
    "slideshow": {
     "slide_type": "notes"
    }
   },
   "source": [
    "24 October, 2019"
   ]
  },
  {
   "cell_type": "markdown",
   "metadata": {
    "slideshow": {
     "slide_type": "slide"
    }
   },
   "source": [
    "### Basics about Molecular dynamics"
   ]
  },
  {
   "cell_type": "markdown",
   "metadata": {
    "slideshow": {
     "slide_type": "slide"
    }
   },
   "source": [
    "We can use Newton's second law to describe the motion of the particles through time.<br>\n",
    "<br>\n",
    "$ F = - \\frac{dE}{dx} = -\\nabla E(r)$"
   ]
  },
  {
   "cell_type": "markdown",
   "metadata": {
    "slideshow": {
     "slide_type": "slide"
    }
   },
   "source": [
    "###### Lennard-Jones potential\n",
    "<br>\n",
    "$ E_{LJ}(r) = 4\\epsilon  [(\\frac{\\sigma}{r})^{12} - (\\frac{\\sigma}{r})^6]$"
   ]
  },
  {
   "cell_type": "code",
   "execution_count": 66,
   "metadata": {
    "scrolled": true,
    "slideshow": {
     "slide_type": "slide"
    }
   },
   "outputs": [
    {
     "data": {
      "text/plain": [
       "<matplotlib.lines.Line2D at 0x7f54ab692350>"
      ]
     },
     "execution_count": 66,
     "metadata": {},
     "output_type": "execute_result"
    },
    {
     "data": {
      "image/png": "[encoded data removed]",
      "text/plain": [
       "<Figure size 720x720 with 1 Axes>"
      ]
     },
     "metadata": {
      "needs_background": "light"
     },
     "output_type": "display_data"
    }
   ],
   "source": [
    "#Import a plotting libraries and a maths library \n",
    "import matplotlib.pyplot as plt\n",
    "import numpy as np\n",
    "%matplotlib inline\n",
    "from timeit import default_timer\n",
    "import matplotlib.animation as animation\n",
    "\n",
    "r = np.linspace(0.01, 3.0, num = 500) # Make a radius vector\n",
    "epsilon = 1 # Energy minimum\n",
    "sigma = 1 # Distance to zero crossing point\n",
    "E_LJ = 4*epsilon*((sigma/r)**12-(sigma/r)**6) # Lennard-Jones potential\n",
    "\n",
    "plt.figure(figsize = [10,10])\n",
    "plt.plot(r, E_LJ, 'r-', linewidth = 1, label = 'LJ') # Red line is unshifted LJ\n",
    "\n",
    "# The cutoff and shifting value\n",
    "Rcutoff = 2.5\n",
    "phicutoff = 4.0/(Rcutoff**12)-4.0/(Rcutoff**6) # Shifts the potential so at the cutoff the potential goes to zero\n",
    "\n",
    "E_LJ_shift = E_LJ - phicutoff # Subtract the value of the potential at r=2.5\n",
    "\n",
    "plt.plot(r[:415], E_LJ_shift[:415], 'b-', linewidth = 1, label = 'LJ shifted') # Blue line is shifted\n",
    "\n",
    "#Plot formatting\n",
    "plt.title('Lennard-Jones potential', fontsize=20)\n",
    "plt.xlim([0.0,3.0])\n",
    "plt.ylim([-1.5,1.5])\n",
    "plt.ylabel('$E_{LJ}/\\epsilon$', fontsize=20)\n",
    "plt.xlabel('$r/\\sigma$', fontsize=20)\n",
    "plt.legend()\n",
    "plt.axhline(0, color = 'grey', linestyle = '--', linewidth = 2)\n",
    "plt.axvline(1, color = 'grey', linestyle = '--', linewidth = 2)"
   ]
  },
  {
   "cell_type": "markdown",
   "metadata": {},
   "source": [
    "##### Reduced units\n",
    "\n",
    "By choosing our units we can remove any constants and get a general behaviour for all gases. Mass, sigma, epsilon and the Boltzmann constant are set to equal one. Reduced coordinates are used for the other variables which are derived from the parameters set to one.\n",
    "\n",
    "![image](./form.png)"
   ]
  },
  {
   "cell_type": "markdown",
   "metadata": {},
   "source": [
    "##### Periodic boundary conditions\n",
    "\n",
    "The green particle moves past the top boundary of the unit cell and are moved to the bottom of the box with the same velocity (illustrated by the red dashed line). This boundary condition keeps the volume and number of particles constant in the simulation.\n",
    "\n",
    "![image](./bond.png)"
   ]
  },
  {
   "cell_type": "markdown",
   "metadata": {},
   "source": [
    "## The main steps in a molecular dynamics simulation\n",
    "\n",
    "1. Initialise the position of particles\n",
    "2. Calculate the pairwise forces on the particles by calculating the gradient of the potential energy $ F=\\nabla E(r)=\\frac {1}{dx}\\frac{dE}{dx}$\n",
    "3. Compute the new positions by integrating the equation of motion (we will use the velocity Verlet algorithm)\n",
    "4. Apply a thermostat to maintain the temperature at the set value (we will use the velocity scaling for temperature control)\n",
    "5. Go back to step 2, recompute the forces and continue until the maximum number of steps"
   ]
  },
  {
   "cell_type": "markdown",
   "metadata": {},
   "source": [
    "### Calculating the forces\n",
    "\n",
    "![image](./force.png)"
   ]
  },
  {
   "cell_type": "code",
   "execution_count": 67,
   "metadata": {
    "slideshow": {
     "slide_type": "slide"
    }
   },
   "outputs": [],
   "source": [
    "def Compute_Forces(pos,acc,ene_pot,epsilon,BoxSize,DIM,N):\n",
    "    # Compute forces on positions using the Lennard-Jones potential\n",
    "    # Uses double nested loop which is slow O(N^2) time unsuitable for large systems\n",
    "    Sij = np.zeros(DIM) # Box scaled units\n",
    "    Rij = np.zeros(DIM) # Real space units\n",
    "    \n",
    "    #Set all variables to zero\n",
    "    ene_pot = ene_pot*0.0\n",
    "    acc = acc*0.0\n",
    "    virial=0.0\n",
    "    \n",
    "    # Loop over all pairs of particles\n",
    "    for i in range(N-1):\n",
    "        for j in range(i+1,N): #i+1 to N ensures we do not double count\n",
    "            Sij = pos[i,:]-pos[j,:] # Distance in box scaled units\n",
    "            for l in range(DIM): # Periodic interactions\n",
    "                if (np.abs(Sij[l])>0.5):\n",
    "                    Sij[l] = Sij[l] - np.copysign(1.0,Sij[l]) # If distance is greater than 0.5  (scaled units) then subtract 0.5 to find periodic interaction distance.\n",
    "            \n",
    "            Rij = BoxSize*Sij # Scale the box to the real units in this case reduced LJ units\n",
    "            Rsqij = np.dot(Rij,Rij) # Calculate the square of the distance\n",
    "            \n",
    "            if(Rsqij < Rcutoff**2):\n",
    "                # Calculate LJ potential inside cutoff\n",
    "                # I calculate parts of the LJ potential at a time to improve the efficieny of the computation (most important for compiled code)\n",
    "                rm2 = 1.0/Rsqij # 1/r^2\n",
    "                rm6 = rm2**3.0 # 1/r^6\n",
    "                rm12 = rm6**2.0 # 1/r^12\n",
    "                phi = epsilon*(4.0*(rm12-rm6)-phicutoff) # 4[1/r^12 - 1/r^6] - phi(Rc) - we are using the shifted LJ potential\n",
    "                # The following is dphi = -(1/r)(dV/dr)\n",
    "                dphi = epsilon*24.0*rm2*(2.0*rm12-rm6) # 24[2/r^14 - 1/r^8]\n",
    "                ene_pot[i] = ene_pot[i]+0.5*phi # Accumulate energy\n",
    "                ene_pot[j] = ene_pot[j]+0.5*phi # Accumulate energy\n",
    "                virial = virial - dphi*Rsqij # Virial is needed to calculate the pressure\n",
    "                acc[i,:] = acc[i,:]+dphi*Sij # Accumulate forces\n",
    "                acc[j,:] = acc[j,:]-dphi*Sij # (Fji=-Fij)\n",
    "    return acc, np.sum(ene_pot)/N, -virial/DIM # return the acceleration vector, potential energy and virial coefficient"
   ]
  },
  {
   "cell_type": "markdown",
   "metadata": {},
   "source": [
    "### Temperature\n",
    "\n",
    "![image](./temp.png)"
   ]
  },
  {
   "cell_type": "code",
   "execution_count": 68,
   "metadata": {
    "slideshow": {
     "slide_type": "slide"
    }
   },
   "outputs": [],
   "source": [
    "def Calculate_Temperature(vel,BoxSize,DIM,N):\n",
    "    \n",
    "    ene_kin = 0.0\n",
    "    \n",
    "    for i in range(N):\n",
    "        real_vel = BoxSize*vel[i,:]\n",
    "        ene_kin = ene_kin + 0.5*np.dot(real_vel,real_vel)\n",
    "    \n",
    "    ene_kin_aver = 1.0*ene_kin/N\n",
    "    temperature = 2.0*ene_kin_aver/DIM\n",
    "    \n",
    "    return ene_kin_aver,temperature"
   ]
  },
  {
   "cell_type": "markdown",
   "metadata": {},
   "source": [
    "### Initialising the particles"
   ]
  },
  {
   "cell_type": "code",
   "execution_count": 69,
   "metadata": {
    "scrolled": true,
    "slideshow": {
     "slide_type": "slide"
    }
   },
   "outputs": [
    {
     "name": "stdout",
     "output_type": "stream",
     "text": [
      "volume =  100.0  density =  0.06\n"
     ]
    }
   ],
   "source": [
    "DIM = 2 # Dimensions\n",
    "N = 10\n",
    "\n",
    "BoxSize = 100.0 \n",
    "\n",
    "volume  = BoxSize**DIM\n",
    "density = N / volume\n",
    "print('volume = ', volume, ' density = ', density)\n",
    "\n",
    "pos = np.zeros([N,DIM])\n",
    "        \n",
    "pos = np.genfromtxt('output.dat',skip_header=1) # Load positions from file\n",
    "pos = pos[:,:DIM]/BoxSize\n",
    "\n",
    "\n",
    "MassCentre = np.sum(pos,axis=0)/N\n",
    "\n",
    "for i in range(DIM):\n",
    "    pos[:,i] = pos[:,i]-MassCentre[i]"
   ]
  },
  {
   "cell_type": "markdown",
   "metadata": {},
   "source": [
    "#### Integrating the equations of motion\n",
    "\n",
    "The velocity Verlet algorithm spilts the velocity update into two steps intially doing a half step then modifing the acceleration and then doing the second velocity update. Written in full, this gives:\n",
    "\n",
    "1. Calculate $ x(t+Δt)=x(t)+v(t+1/2Δt)Δt$\n",
    "2. Calculate $ v(t+1/2Δt)=v(t)+1/2a(t)Δt$\n",
    "3. Derive $a(t+Δt)$ from the interaction potential using $x(t+Δt)$\n",
    "4. Calculate $v(t+Δt)=v(t+1/2Δt)+1/2a(t+Δt)Δt$\n",
    "Between step 1 and 2 we rescale the velocities to maintain the temperature at the requested value."
   ]
  },
  {
   "cell_type": "code",
   "execution_count": 70,
   "metadata": {},
   "outputs": [],
   "source": [
    "# Setting up the simulation\n",
    "NSteps=10000 # Number of steps\n",
    "deltat = 0.0032 # Time step in reduced time units\n",
    "TRequested = 0.5# #Reduced temperature\n",
    "DumpFreq = 100 # Save the position to file every DumpFreq steps\n",
    "epsilon = 1.0 # LJ parameter for the energy between particles\n",
    "\n",
    "# Main MD loop\n",
    "def main_plot(pos,NSteps,deltat,TRequested,DumpFreq,epsilon,BoxSize,DIM):\n",
    "    \n",
    "    # Vectors to store parameter values at each step\n",
    "    N = np.size(pos[:,1])\n",
    "    ene_kin_aver = np.ones(NSteps)\n",
    "    ene_pot_aver = np.ones(NSteps)\n",
    "    temperature = np.ones(NSteps)\n",
    "    virial = np.ones(NSteps)\n",
    "    pressure = np.ones(NSteps)\n",
    "    ene_pot = np.ones(N)\n",
    "\n",
    "    vel = (np.random.randn(N,DIM)-0.5)\n",
    "    acc = (np.random.randn(N,DIM)-0.5)\n",
    "\n",
    "    # Open file which we will save the outputs to\n",
    "    f = open('traj.xyz', 'w')\n",
    "    \n",
    "    for k in range(NSteps):\n",
    "        \n",
    "        # Refold positions according to periodic boundary conditions\n",
    "        for i in range(DIM):\n",
    "            period = np.where(pos[:,i] > 0.5)\n",
    "            pos[period,i]=pos[period,i]-1.0\n",
    "            period = np.where(pos[:,i] < -0.5)\n",
    "            pos[period,i]=pos[period,i]+1.0\n",
    "\n",
    "        # r(t+dt) modify positions according to velocity and acceleration\n",
    "        pos = pos + deltat*vel + 0.5*(deltat**2.0)*acc # Step 1\n",
    "\n",
    "        # Calculate temperature\n",
    "        ene_kin_aver[k],temperature[k] = Calculate_Temperature(vel,BoxSize,DIM,N)\n",
    "\n",
    "        # Rescale velocities and take half step\n",
    "        chi = np.sqrt(TRequested/temperature[k])\n",
    "        vel = chi*vel + 0.5*deltat*acc # v(t+dt/2) Step 2\n",
    "\n",
    "        # Compute forces a(t+dt),ene_pot,virial\n",
    "        acc, ene_pot_aver[k], virial[k] = Compute_Forces(pos,acc,ene_pot,epsilon,BoxSize,DIM,N) # Step 3\n",
    "\n",
    "        # Complete the velocity step \n",
    "        vel = vel + 0.5*deltat*acc # v(t+dt/2) Step 4\n",
    "\n",
    "        # Calculate temperature\n",
    "        ene_kin_aver[k],temperature[k] = Calculate_Temperature(vel,BoxSize,DIM,N)\n",
    "\n",
    "        # Calculate pressure\n",
    "        pressure[k]= density*temperature[k] + virial[k]/volume\n",
    "        \n",
    "        \n",
    "        # Print output to file every DumpFreq number of steps\n",
    "        if(k%DumpFreq==0): # The % symbol is the modulus so if the Step is a whole multiple of DumpFreq then print the values\n",
    "\n",
    "            f.write(\"%s\\n\" %(N)) # Write the number of particles to file\n",
    "            # Write all of the quantities at this step to the file\n",
    "            f.write(\"Energy %s, Temperature %.5f\\n\" %(ene_kin_aver[k]+ene_pot_aver[k],temperature[k]))\n",
    "            for n in range(N): # Write the positions to file\n",
    "                f.write(\"X\"+\" \")\n",
    "                for l in range(DIM):\n",
    "                    f.write(str(pos[n][l]*BoxSize)+\" \")\n",
    "                f.write(\"\\n\")\n",
    "            \n",
    "            if(DIM==2):\n",
    "                import matplotlib.pyplot as plt\n",
    "                from IPython import display\n",
    "                plt.cla()\n",
    "                plt.xlim(-0.5*BoxSize,0.5*BoxSize)\n",
    "                plt.ylim(-0.5*BoxSize,0.5*BoxSize)\n",
    "                for i in range(N):\n",
    "                    plt.plot(pos[i,0]*BoxSize,pos[i,1]*BoxSize,'o',markersize=20)\n",
    "                display.clear_output(wait=True)\n",
    "                display.display(plt.gcf())\n",
    "        #print(ene_kin_aver[k], ene_pot_aver[k], temperature[k], pressure[k]) \n",
    "\n",
    "    f.close() # Close the file\n",
    "    \n",
    "    return ene_kin_aver, ene_pot_aver, temperature, pressure, pos"
   ]
  },
  {
   "cell_type": "code",
   "execution_count": 71,
   "metadata": {
    "slideshow": {
     "slide_type": "slide"
    }
   },
   "outputs": [],
   "source": [
    "# Setting up the simulation\n",
    "NSteps=10000 # Number of steps\n",
    "deltat = 0.0032 # Time step in reduced time units\n",
    "TRequested = 0.5# #Reduced temperature\n",
    "DumpFreq = 100 # Save the position to file every DumpFreq steps\n",
    "epsilon = 1.0 # LJ parameter for the energy between particles\n",
    "\n",
    "# Main MD loop\n",
    "def main(pos,NSteps,deltat,TRequested,DumpFreq,epsilon,BoxSize,DIM):\n",
    "    \n",
    "    # Vectors to store parameter values at each step\n",
    "    N = np.size(pos[:,1])\n",
    "    ene_kin_aver = np.ones(NSteps)\n",
    "    ene_pot_aver = np.ones(NSteps)\n",
    "    temperature = np.ones(NSteps)\n",
    "    virial = np.ones(NSteps)\n",
    "    pressure = np.ones(NSteps)\n",
    "    ene_pot = np.ones(N)\n",
    "\n",
    "    vel = (np.random.randn(N,DIM)-0.5)\n",
    "    acc = (np.random.randn(N,DIM)-0.5)\n",
    "\n",
    "    # Open file which we will save the outputs to\n",
    "    f = open('traj.xyz', 'w')\n",
    "    \n",
    "    for k in range(NSteps):\n",
    "        \n",
    "        # Refold positions according to periodic boundary conditions\n",
    "        for i in range(DIM):\n",
    "            period = np.where(pos[:,i] > 0.5)\n",
    "            pos[period,i]=pos[period,i]-1.0\n",
    "            period = np.where(pos[:,i] < -0.5)\n",
    "            pos[period,i]=pos[period,i]+1.0\n",
    "\n",
    "        # r(t+dt) modify positions according to velocity and acceleration\n",
    "        pos = pos + deltat*vel + 0.5*(deltat**2.0)*acc # Step 1\n",
    "\n",
    "        # Calculate temperature\n",
    "        ene_kin_aver[k],temperature[k] = Calculate_Temperature(vel,BoxSize,DIM,N)\n",
    "\n",
    "        # Rescale velocities and take half step\n",
    "        chi = np.sqrt(TRequested/temperature[k])\n",
    "        vel = chi*vel + 0.5*deltat*acc # v(t+dt/2) Step 2\n",
    "\n",
    "        # Compute forces a(t+dt),ene_pot,virial\n",
    "        acc, ene_pot_aver[k], virial[k] = Compute_Forces(pos,acc,ene_pot,epsilon,BoxSize,DIM,N) # Step 3\n",
    "\n",
    "        # Complete the velocity step \n",
    "        vel = vel + 0.5*deltat*acc # v(t+dt/2) Step 4\n",
    "\n",
    "        # Calculate temperature\n",
    "        ene_kin_aver[k],temperature[k] = Calculate_Temperature(vel,BoxSize,DIM,N)\n",
    "\n",
    "        # Calculate pressure\n",
    "        pressure[k]= density*temperature[k] + virial[k]/volume\n",
    "        \n",
    "        \n",
    "        # Print output to file every DumpFreq number of steps\n",
    "        if(k%DumpFreq==0): # The % symbol is the modulus so if the Step is a whole multiple of DumpFreq then print the values\n",
    "\n",
    "            f.write(\"%s\\n\" %(N)) # Write the number of particles to file\n",
    "            # Write all of the quantities at this step to the file\n",
    "            f.write(\"Energy %s, Temperature %.5f\\n\" %(ene_kin_aver[k]+ene_pot_aver[k],temperature[k]))\n",
    "            for n in range(N): # Write the positions to file\n",
    "                f.write(\"X\"+\" \")\n",
    "                for l in range(DIM):\n",
    "                    f.write(str(pos[n][l]*BoxSize)+\" \")\n",
    "                f.write(\"\\n\")\n",
    "            \n",
    "            '''if(DIM==2):\n",
    "                import matplotlib.pyplot as plt\n",
    "                from IPython import display\n",
    "                plt.cla()\n",
    "                plt.xlim(-0.5*BoxSize,0.5*BoxSize)\n",
    "                plt.ylim(-0.5*BoxSize,0.5*BoxSize)\n",
    "                for i in range(N):\n",
    "                    plt.plot(pos[i,0]*BoxSize,pos[i,1]*BoxSize,'o',markersize=20)\n",
    "                display.clear_output(wait=True)\n",
    "                display.display(plt.gcf())'''\n",
    "        #print(ene_kin_aver[k], ene_pot_aver[k], temperature[k], pressure[k]) \n",
    "\n",
    "    f.close() # Close the file\n",
    "    \n",
    "    return ene_kin_aver, ene_pot_aver, temperature, pressure, pos"
   ]
  },
  {
   "cell_type": "code",
   "execution_count": 45,
   "metadata": {},
   "outputs": [
    {
     "name": "stdout",
     "output_type": "stream",
     "text": [
      "Calculate_Temperature time:  2.3700999918219168e-05\n",
      "Compute_Forces time:  0.00034566600015750737\n",
      "         2254358 function calls in 4.267 seconds\n",
      "\n",
      "   Ordered by: standard name\n",
      "\n",
      "   ncalls  tottime  percall  cumtime  percall filename:lineno(function)\n",
      "        6    0.000    0.000    0.000    0.000 <__array_function__ internals>:2(copyto)\n",
      "   650000    0.187    0.000    0.622    0.000 <__array_function__ internals>:2(dot)\n",
      "        1    0.000    0.000    0.000    0.000 <__array_function__ internals>:2(size)\n",
      "    10000    0.005    0.000    0.075    0.000 <__array_function__ internals>:2(sum)\n",
      "    40000    0.015    0.000    0.040    0.000 <__array_function__ internals>:2(where)\n",
      "    10000    2.733    0.000    3.262    0.000 <ipython-input-35-faf9b329a39b>:1(Compute_Forces)\n",
      "    20000    0.293    0.000    0.476    0.000 <ipython-input-36-d15452772281>:1(Calculate_Temperature)\n",
      "        1    0.483    0.483    4.267    4.267 <ipython-input-41-4b993b703f0b>:10(main_withoutplot)\n",
      "        1    0.000    0.000    4.267    4.267 <string>:1(<module>)\n",
      "        1    0.000    0.000    0.000    0.000 _bootlocale.py:33(getpreferredencoding)\n",
      "        1    0.000    0.000    0.000    0.000 codecs.py:186(__init__)\n",
      "    10000    0.001    0.000    0.001    0.000 fromnumeric.py:2040(_sum_dispatcher)\n",
      "    10000    0.012    0.000    0.066    0.000 fromnumeric.py:2045(sum)\n",
      "        1    0.000    0.000    0.000    0.000 fromnumeric.py:3024(_size_dispatcher)\n",
      "        1    0.000    0.000    0.000    0.000 fromnumeric.py:3028(size)\n",
      "    10000    0.015    0.000    0.051    0.000 fromnumeric.py:73(_wrapreduction)\n",
      "    10000    0.005    0.000    0.005    0.000 fromnumeric.py:74(<dictcomp>)\n",
      "        9    0.000    0.000    0.000    0.000 iostream.py:197(schedule)\n",
      "        8    0.000    0.000    0.000    0.000 iostream.py:309(_is_master_process)\n",
      "        8    0.000    0.000    0.000    0.000 iostream.py:322(_schedule_flush)\n",
      "        8    0.000    0.000    0.000    0.000 iostream.py:384(write)\n",
      "        9    0.000    0.000    0.000    0.000 iostream.py:93(_event_pipe)\n",
      "        6    0.000    0.000    0.000    0.000 multiarray.py:1043(copyto)\n",
      "    40000    0.003    0.000    0.003    0.000 multiarray.py:312(where)\n",
      "   650000    0.039    0.000    0.039    0.000 multiarray.py:707(dot)\n",
      "        6    0.000    0.000    0.000    0.000 numeric.py:166(ones)\n",
      "        9    0.000    0.000    0.000    0.000 socket.py:342(send)\n",
      "        9    0.000    0.000    0.000    0.000 threading.py:1050(_wait_for_tstate_lock)\n",
      "        9    0.000    0.000    0.000    0.000 threading.py:1092(is_alive)\n",
      "        9    0.000    0.000    0.000    0.000 threading.py:507(is_set)\n",
      "        1    0.000    0.000    0.000    0.000 {built-in method _locale.nl_langinfo}\n",
      "        1    0.000    0.000    4.267    4.267 {built-in method builtins.exec}\n",
      "    10008    0.003    0.000    0.003    0.000 {built-in method builtins.isinstance}\n",
      "        2    0.000    0.000    0.000    0.000 {built-in method builtins.print}\n",
      "        1    0.000    0.000    0.000    0.000 {built-in method io.open}\n",
      "   700007    0.422    0.000    0.488    0.000 {built-in method numpy.core._multiarray_umath.implement_array_function}\n",
      "        6    0.000    0.000    0.000    0.000 {built-in method numpy.empty}\n",
      "    20000    0.014    0.000    0.014    0.000 {built-in method numpy.zeros}\n",
      "        8    0.000    0.000    0.000    0.000 {built-in method posix.getpid}\n",
      "    40000    0.005    0.000    0.005    0.000 {built-in method time.perf_counter}\n",
      "        9    0.000    0.000    0.000    0.000 {method 'acquire' of '_thread.lock' objects}\n",
      "        9    0.000    0.000    0.000    0.000 {method 'append' of 'collections.deque' objects}\n",
      "        1    0.000    0.000    0.000    0.000 {method 'disable' of '_lsprof.Profiler' objects}\n",
      "    10000    0.001    0.000    0.001    0.000 {method 'items' of 'dict' objects}\n",
      "        2    0.000    0.000    0.000    0.000 {method 'randn' of 'numpy.random.mtrand.RandomState' objects}\n",
      "    10000    0.029    0.000    0.029    0.000 {method 'reduce' of 'numpy.ufunc' objects}\n",
      "     4200    0.001    0.000    0.001    0.000 {method 'write' of '_io.TextIOWrapper' objects}\n",
      "\n",
      "\n"
     ]
    }
   ],
   "source": [
    "import cProfile\n",
    "cProfile.run('main(pos,NSteps,deltat,TRequested,DumpFreq,epsilon,BoxSize,DIM)')"
   ]
  },
  {
   "cell_type": "code",
   "execution_count": 72,
   "metadata": {},
   "outputs": [
    {
     "data": {
      "image/png": "[encoded data removed]",
      "text/plain": [
       "<Figure size 432x288 with 1 Axes>"
      ]
     },
     "metadata": {},
     "output_type": "display_data"
    },
    {
     "ename": "NameError",
     "evalue": "name 'plot' is not defined",
     "output_type": "error",
     "traceback": [
      "\u001b[0;31m---------------------------------------------------------------------------\u001b[0m",
      "\u001b[0;31mNameError\u001b[0m                                 Traceback (most recent call last)",
      "\u001b[0;32m<ipython-input-72-504b5666dd0e>\u001b[0m in \u001b[0;36m<module>\u001b[0;34m\u001b[0m\n\u001b[1;32m     19\u001b[0m     plt.show()'''\n\u001b[1;32m     20\u001b[0m \u001b[0;34m\u001b[0m\u001b[0m\n\u001b[0;32m---> 21\u001b[0;31m \u001b[0mplot\u001b[0m\u001b[0;34m(\u001b[0m\u001b[0;34m)\u001b[0m\u001b[0;34m\u001b[0m\u001b[0;34m\u001b[0m\u001b[0m\n\u001b[0m",
      "\u001b[0;31mNameError\u001b[0m: name 'plot' is not defined"
     ]
    },
    {
     "data": {
      "image/png": "[encoded data removed]",
      "text/plain": [
       "<Figure size 432x288 with 1 Axes>"
      ]
     },
     "metadata": {
      "needs_background": "light"
     },
     "output_type": "display_data"
    }
   ],
   "source": [
    "ene_kin_aver, ene_pot_aver, temperature, pressure, pos = main_plot(pos,NSteps,deltat,TRequested,DumpFreq,epsilon,BoxSize,DIM)\n",
    "\n",
    "'''def plot():\n",
    "    plt.figure(figsize=[7,12])\n",
    "    plt.rc('xtick', labelsize=15) \n",
    "    plt.rc('ytick', labelsize=15)\n",
    "    plt.subplot(4, 1, 1)\n",
    "    plt.plot(ene_kin_aver,'k-')\n",
    "    plt.ylabel('$E_{K}$', fontsize=20)\n",
    "    plt.subplot(4, 1, 2)\n",
    "    plt.plot(ene_pot_aver,'k-')\n",
    "    plt.ylabel('$E_{P}$', fontsize=20)\n",
    "    plt.subplot(4, 1, 3)\n",
    "    plt.plot(temperature,'k-')\n",
    "    plt.ylabel('T', fontsize=20)\n",
    "    plt.subplot(4, 1, 4)\n",
    "    plt.plot(pressure,'k-')\n",
    "    plt.ylabel('P', fontsize=20)\n",
    "    plt.show()'''\n",
    "\n",
    "plot()"
   ]
  },
  {
   "cell_type": "code",
   "execution_count": 30,
   "metadata": {
    "slideshow": {
     "slide_type": "slide"
    }
   },
   "outputs": [
    {
     "name": "stdout",
     "output_type": "stream",
     "text": [
      "Temperature =  2.099612809068363e+48 +- 2.9690039653777313e+50\n"
     ]
    }
   ],
   "source": [
    "print(\"Temperature = \", np.average(temperature), \"+-\", 2*np.std(temperature))"
   ]
  },
  {
   "cell_type": "code",
   "execution_count": 31,
   "metadata": {
    "slideshow": {
     "slide_type": "slide"
    }
   },
   "outputs": [
    {
     "name": "stdout",
     "output_type": "stream",
     "text": [
      "Pressure =  1.2597676854410178e+47 +- 1.7814023792266375e+49\n"
     ]
    }
   ],
   "source": [
    "print(\"Pressure = \", np.average(pressure), \"+-\", 2*np.std(pressure))"
   ]
  },
  {
   "cell_type": "code",
   "execution_count": 62,
   "metadata": {
    "slideshow": {
     "slide_type": "skip"
    }
   },
   "outputs": [
    {
     "name": "stdout",
     "output_type": "stream",
     "text": [
      "Calculate_Temperature time:  5.1140000323357526e-05\n",
      "Compute_Forces time:  0.0005776729999524832\n",
      "Time without jit:  4.044191236000188\n"
     ]
    }
   ],
   "source": [
    "start = default_timer()\n",
    "main(pos,NSteps,deltat,TRequested,DumpFreq,epsilon,BoxSize,DIM)\n",
    "end = default_timer()\n",
    "print('Time without jit: ', end - start)"
   ]
  },
  {
   "cell_type": "markdown",
   "metadata": {},
   "source": [
    "### JIT "
   ]
  },
  {
   "cell_type": "code",
   "execution_count": 108,
   "metadata": {},
   "outputs": [],
   "source": [
    "from numba import jit"
   ]
  },
  {
   "cell_type": "code",
   "execution_count": 109,
   "metadata": {},
   "outputs": [],
   "source": [
    "@jit\n",
    "def Compute_Forces_jit(pos,acc,ene_pot,epsilon,BoxSize,DIM,N):\n",
    "    # Compute forces on positions using the Lennard-Jones potential\n",
    "    # Uses double nested loop which is slow O(N^2) time unsuitable for large systems\n",
    "    Sij = np.zeros(DIM) # Box scaled units\n",
    "    Rij = np.zeros(DIM) # Real space units\n",
    "    \n",
    "    #Set all variables to zero\n",
    "    ene_pot = ene_pot*0.0\n",
    "    acc = acc*0.0\n",
    "    virial=0.0\n",
    "    \n",
    "    # Loop over all pairs of particles\n",
    "    for i in range(N-1):\n",
    "        for j in range(i+1,N): #i+1 to N ensures we do not double count\n",
    "            Sij = pos[i,:]-pos[j,:] # Distance in box scaled units\n",
    "            for l in range(DIM): # Periodic interactions\n",
    "                if (np.abs(Sij[l])>0.5):\n",
    "                    Sij[l] = Sij[l] - np.copysign(1.0,Sij[l]) # If distance is greater than 0.5  (scaled units) then subtract 0.5 to find periodic interaction distance.\n",
    "            \n",
    "            Rij = BoxSize*Sij # Scale the box to the real units in this case reduced LJ units\n",
    "            Rsqij = np.dot(Rij,Rij) # Calculate the square of the distance\n",
    "            \n",
    "            if(Rsqij < Rcutoff**2):\n",
    "                # Calculate LJ potential inside cutoff\n",
    "                # I calculate parts of the LJ potential at a time to improve the efficieny of the computation (most important for compiled code)\n",
    "                rm2 = 1.0/Rsqij # 1/r^2\n",
    "                rm6 = rm2**3.0 # 1/r^6\n",
    "                rm12 = rm6**2.0 # 1/r^12\n",
    "                phi = epsilon*(4.0*(rm12-rm6)-phicutoff) # 4[1/r^12 - 1/r^6] - phi(Rc) - we are using the shifted LJ potential\n",
    "                # The following is dphi = -(1/r)(dV/dr)\n",
    "                dphi = epsilon*24.0*rm2*(2.0*rm12-rm6) # 24[2/r^14 - 1/r^8]\n",
    "                ene_pot[i] = ene_pot[i]+0.5*phi # Accumulate energy\n",
    "                ene_pot[j] = ene_pot[j]+0.5*phi # Accumulate energy\n",
    "                virial = virial - dphi*Rsqij # Virial is needed to calculate the pressure\n",
    "                acc[i,:] = acc[i,:]+dphi*Sij # Accumulate forces\n",
    "                acc[j,:] = acc[j,:]-dphi*Sij # (Fji=-Fij)\n",
    "    return acc, np.sum(ene_pot)/N, -virial/DIM # return the acceleration vector, potential energy and virial coefficient"
   ]
  },
  {
   "cell_type": "code",
   "execution_count": 110,
   "metadata": {},
   "outputs": [],
   "source": [
    "@jit\n",
    "def Calculate_Temperature_jit(vel,BoxSize,DIM,N):\n",
    "    \n",
    "    ene_kin = 0.0\n",
    "    \n",
    "    for i in range(N):\n",
    "        real_vel = BoxSize*vel[i,:]\n",
    "        ene_kin = ene_kin + 0.5*np.dot(real_vel,real_vel)\n",
    "    \n",
    "    ene_kin_aver = 1.0*ene_kin/N\n",
    "    temperature = 2.0*ene_kin_aver/DIM\n",
    "    \n",
    "    return ene_kin_aver,temperature"
   ]
  },
  {
   "cell_type": "code",
   "execution_count": 111,
   "metadata": {},
   "outputs": [
    {
     "name": "stdout",
     "output_type": "stream",
     "text": [
      "volume =  10000.0  density =  0.001\n",
      "[[-0.02760199 -0.00555414]\n",
      " [-0.01875552  0.00100308]\n",
      " [-0.00627433 -0.0075519 ]\n",
      " [-0.01918781  0.00730312]\n",
      " [-0.01919533  0.0075859 ]\n",
      " [ 0.00656563  0.00053741]\n",
      " [-0.0054725  -0.01386816]\n",
      " [-0.00539173 -0.0141688 ]\n",
      " [ 0.00574751  0.01264665]\n",
      " [ 0.01688277 -0.00586373]]\n",
      "[[-0.02033366 -0.00376108]\n",
      " [-0.01148719  0.00279614]\n",
      " [ 0.000994   -0.00575884]\n",
      " [-0.01191948  0.00909618]\n",
      " [-0.011927    0.00937896]\n",
      " [ 0.01383396  0.00233047]\n",
      " [ 0.00179583 -0.0120751 ]\n",
      " [ 0.0018766  -0.01237574]\n",
      " [ 0.01301584  0.01443971]\n",
      " [ 0.0241511  -0.00407067]]\n"
     ]
    }
   ],
   "source": [
    "DIM = 2 # Dimensions\n",
    "N = 10\n",
    "\n",
    "BoxSize = 100.0 \n",
    "\n",
    "volume  = BoxSize**DIM\n",
    "density = N / volume\n",
    "print('volume = ', volume, ' density = ', density)\n",
    "\n",
    "pos = np.zeros([N,DIM])\n",
    "        \n",
    "pos = np.genfromtxt('output.dat',skip_header=1) # Load positions from file\n",
    "pos = pos[:,:DIM]/BoxSize\n",
    "print(pos)\n",
    "\n",
    "\n",
    "MassCentre = np.sum(pos,axis=0)/N\n",
    "\n",
    "for i in range(DIM):\n",
    "    pos[:,i] = pos[:,i]-MassCentre[i]\n",
    "print(pos)"
   ]
  },
  {
   "cell_type": "code",
   "execution_count": 112,
   "metadata": {},
   "outputs": [],
   "source": [
    "# Setting up the simulation\n",
    "NSteps=10000 # Number of steps\n",
    "deltat = 0.0032 # Time step in reduced time units\n",
    "TRequested = 0.5# #Reduced temperature\n",
    "DumpFreq = 100 # Save the position to file every DumpFreq steps\n",
    "epsilon = 1.0 # LJ parameter for the energy between particles\n",
    "\n",
    "# Main MD loop\n",
    "\n",
    "def main_jit(pos,NSteps,deltat,TRequested,DumpFreq,epsilon,BoxSize,DIM):\n",
    "    \n",
    "    # Vectors to store parameter values at each step\n",
    "    N = np.size(pos[:,1])\n",
    "    ene_kin_aver = np.ones(NSteps)\n",
    "    ene_pot_aver = np.ones(NSteps)\n",
    "    temperature = np.ones(NSteps)\n",
    "    virial = np.ones(NSteps)\n",
    "    pressure = np.ones(NSteps)\n",
    "    ene_pot = np.ones(N)\n",
    "\n",
    "    vel = (np.random.randn(N,DIM)-0.5)\n",
    "    acc = (np.random.randn(N,DIM)-0.5)\n",
    "\n",
    "    # Open file which we will save the outputs to\n",
    "    f = open('traj.xyz', 'w')\n",
    "    \n",
    "    for k in range(NSteps):\n",
    "        \n",
    "        # Refold positions according to periodic boundary conditions\n",
    "        for i in range(DIM):\n",
    "            period = np.where(pos[:,i] > 0.5)\n",
    "            pos[period,i]=pos[period,i]-1.0\n",
    "            period = np.where(pos[:,i] < -0.5)\n",
    "            pos[period,i]=pos[period,i]+1.0\n",
    "\n",
    "        # r(t+dt) modify positions according to velocity and acceleration\n",
    "        pos = pos + deltat*vel + 0.5*(deltat**2.0)*acc # Step 1\n",
    "\n",
    "        # Calculate temperature\n",
    "        start1 = default_timer()\n",
    "        ene_kin_aver[k],temperature[k] = Calculate_Temperature_jit(vel,BoxSize,DIM,N)\n",
    "        end1 = default_timer()\n",
    "        #print('Calculate_Temperature_jit time: ', end - start)\n",
    "\n",
    "        # Rescale velocities and take half step\n",
    "        chi = np.sqrt(TRequested/temperature[k])\n",
    "        vel = chi*vel + 0.5*deltat*acc # v(t+dt/2) Step 2\n",
    "\n",
    "        # Compute forces a(t+dt),ene_pot,virial\n",
    "        start2 = default_timer()\n",
    "        acc, ene_pot_aver[k], virial[k] = Compute_Forces_jit(pos,acc,ene_pot,epsilon,BoxSize,DIM,N) # Step 3\n",
    "        end2 = default_timer()\n",
    "        #print('Calculate_Forces_jit time: ', end - start)\n",
    "\n",
    "        # Complete the velocity step \n",
    "        vel = vel + 0.5*deltat*acc # v(t+dt/2) Step 4\n",
    "\n",
    "        # Calculate temperature\n",
    "        ene_kin_aver[k],temperature[k] = Calculate_Temperature_jit(vel,BoxSize,DIM,N)\n",
    "\n",
    "        # Calculate pressure\n",
    "        pressure[k]= density*temperature[k] + virial[k]/volume\n",
    "        \n",
    "        \n",
    "        # Print output to file every DumpFreq number of steps\n",
    "        if(k%DumpFreq==0): # The % symbol is the modulus so if the Step is a whole multiple of DumpFreq then print the values\n",
    "\n",
    "            f.write(\"%s\\n\" %(N)) # Write the number of particles to file\n",
    "            # Write all of the quantities at this step to the file\n",
    "            f.write(\"Energy %s, Temperature %.5f\\n\" %(ene_kin_aver[k]+ene_pot_aver[k],temperature[k]))\n",
    "            for n in range(N): # Write the positions to file\n",
    "                f.write(\"X\"+\" \")\n",
    "                for l in range(DIM):\n",
    "                    f.write(str(pos[n][l]*BoxSize)+\" \")\n",
    "                f.write(\"\\n\")\n",
    "            \n",
    "            '''if(DIM==2):\n",
    "                import matplotlib.pyplot as plt\n",
    "                from IPython import display\n",
    "                plt.cla()\n",
    "                plt.xlim(-0.5*BoxSize,0.5*BoxSize)\n",
    "                plt.ylim(-0.5*BoxSize,0.5*BoxSize)\n",
    "                for i in range(N):\n",
    "                    plt.plot(pos[i,0]*BoxSize,pos[i,1]*BoxSize,'o',markersize=20)\n",
    "                display.clear_output(wait=True)\n",
    "                display.display(plt.gcf())'''\n",
    "        #print(ene_kin_aver[k], ene_pot_aver[k], temperature[k], pressure[k]) \n",
    "\n",
    "    f.close() # Close the file\n",
    "    print('Calculate_Temperature_jit time: ', end1 - start1)\n",
    "    print('Compute_Forces_jit time: ', end2 - start2)\n",
    "    \n",
    "    return ene_kin_aver, ene_pot_aver, temperature, pressure, pos"
   ]
  },
  {
   "cell_type": "code",
   "execution_count": 113,
   "metadata": {},
   "outputs": [
    {
     "name": "stdout",
     "output_type": "stream",
     "text": [
      "Calculate_Temperature_jit time:  1.8040000213659368e-06\n",
      "Compute_Forces_jit time:  8.180999429896474e-06\n",
      "Time with jit:  1.2689126949999263\n"
     ]
    }
   ],
   "source": [
    "start = default_timer()\n",
    "main_jit(pos,NSteps,deltat,TRequested,DumpFreq,epsilon,BoxSize,DIM)\n",
    "end = default_timer()\n",
    "print('Time with jit: ', end - start)"
   ]
  },
  {
   "cell_type": "markdown",
   "metadata": {},
   "source": [
    "## CuPy"
   ]
  },
  {
   "cell_type": "code",
   "execution_count": 5,
   "metadata": {},
   "outputs": [],
   "source": [
    "import cupy as cp\n",
    "import numpy as np\n",
    "from timeit import default_timer"
   ]
  },
  {
   "cell_type": "code",
   "execution_count": 10,
   "metadata": {},
   "outputs": [],
   "source": [
    "def Compute_Forces_cp(pos,acc,ene_pot,epsilon,BoxSize,DIM,N):\n",
    "    # Compute forces on positions using the Lennard-Jones potential\n",
    "    # Uses double nested loop which is slow O(N^2) time unsuitable for large systems\n",
    "    Sij = cp.zeros(DIM) # Box scaled units\n",
    "    Rij = cp.zeros(DIM) # Real space units\n",
    "    \n",
    "    #Set all variables to zero\n",
    "    ene_pot = ene_pot*0.0\n",
    "    acc = acc*0.0\n",
    "    virial=0.0\n",
    "    \n",
    "    # Loop over all pairs of particles\n",
    "    for i in range(N-1):\n",
    "        for j in range(i+1,N): #i+1 to N ensures we do not double count\n",
    "            Sij = pos[i,:]-pos[j,:] # Distance in box scaled units\n",
    "            for l in range(DIM): # Periodic interactions\n",
    "                if (cp.abs(Sij[l])>0.5):\n",
    "                    Sij[l] = Sij[l] - cp.copysign(1.0,Sij[l]) # If distance is greater than 0.5  (scaled units) then subtract 0.5 to find periodic interaction distance.\n",
    "            \n",
    "            Rij = BoxSize*Sij # Scale the box to the real units in this case reduced LJ units\n",
    "            Rsqij = cp.dot(Rij,Rij) # Calculate the square of the distance\n",
    "            \n",
    "            if(Rsqij < Rcutoff**2):\n",
    "                # Calculate LJ potential inside cutoff\n",
    "                # I calculate parts of the LJ potential at a time to improve the efficieny of the computation (most important for compiled code)\n",
    "                rm2 = 1.0/Rsqij # 1/r^2\n",
    "                rm6 = rm2**3.0 # 1/r^6\n",
    "                rm12 = rm6**2.0 # 1/r^12\n",
    "                phi = epsilon*(4.0*(rm12-rm6)-phicutoff) # 4[1/r^12 - 1/r^6] - phi(Rc) - we are using the shifted LJ potential\n",
    "                # The following is dphi = -(1/r)(dV/dr)\n",
    "                dphi = epsilon*24.0*rm2*(2.0*rm12-rm6) # 24[2/r^14 - 1/r^8]\n",
    "                ene_pot[i] = ene_pot[i]+0.5*phi # Accumulate energy\n",
    "                ene_pot[j] = ene_pot[j]+0.5*phi # Accumulate energy\n",
    "                virial = virial - dphi*Rsqij # Virial is needed to calculate the pressure\n",
    "                acc[i,:] = acc[i,:]+dphi*Sij # Accumulate forces\n",
    "                acc[j,:] = acc[j,:]-dphi*Sij # (Fji=-Fij)\n",
    "    return cp.asnumpy(acc), cp.sum(ene_pot)/N, -virial/DIM "
   ]
  },
  {
   "cell_type": "code",
   "execution_count": 11,
   "metadata": {},
   "outputs": [],
   "source": [
    "def Calculate_Temperature_cp(vel,BoxSize,DIM,N):\n",
    "    \n",
    "    ene_kin = 0.0\n",
    "    \n",
    "    for i in range(N):\n",
    "        real_vel = BoxSize*vel[i,:]\n",
    "        ene_kin = ene_kin + 0.5*cp.dot(real_vel,real_vel)\n",
    "    \n",
    "    ene_kin_aver = 1.0*ene_kin/N\n",
    "    temperature = 2.0*ene_kin_aver/DIM\n",
    "    \n",
    "    return ene_kin_aver, temperature"
   ]
  },
  {
   "cell_type": "code",
   "execution_count": 12,
   "metadata": {},
   "outputs": [
    {
     "name": "stdout",
     "output_type": "stream",
     "text": [
      "volume =  10000.0  density =  0.001\n"
     ]
    }
   ],
   "source": [
    "DIM = 2 # Dimensions\n",
    "N = 10\n",
    "\n",
    "BoxSize = 100.0 \n",
    "\n",
    "volume  = BoxSize**DIM\n",
    "density = N / volume\n",
    "print('volume = ', volume, ' density = ', density)\n",
    "\n",
    "pos = np.zeros([N,DIM])\n",
    "        \n",
    "pos = np.genfromtxt('./output.dat',skip_header=1) # Load positions from file\n",
    "pos = pos[:,:DIM]/BoxSize\n",
    "\n",
    "\n",
    "MassCentre = np.sum(pos,axis=0)/N\n",
    "\n",
    "for i in range(DIM):\n",
    "    pos[:,i] = pos[:,i]-MassCentre[i]"
   ]
  },
  {
   "cell_type": "code",
   "execution_count": 18,
   "metadata": {},
   "outputs": [],
   "source": [
    "# Setting up the simulation\n",
    "NSteps=10000 # Number of steps\n",
    "deltat = 0.0032 # Time step in reduced time units\n",
    "TRequested = 0.5# #Reduced temperature\n",
    "DumpFreq = 100 # Save the position to file every DumpFreq steps\n",
    "epsilon = 1.0 # LJ parameter for the energy between particles\n",
    "\n",
    "# Main MD loop\n",
    "def main_cp(pos,NSteps,deltat,TRequested,DumpFreq,epsilon,BoxSize,DIM):\n",
    "    \n",
    "    # Vectors to store parameter values at each step\n",
    "    N = np.size(pos[:,1])\n",
    "    ene_kin_aver = np.ones(NSteps)\n",
    "    ene_pot_aver = np.ones(NSteps)\n",
    "    temperature = np.ones(NSteps)\n",
    "    virial = np.ones(NSteps)\n",
    "    pressure = np.ones(NSteps)\n",
    "    ene_pot = np.ones(N)\n",
    "\n",
    "    vel = (np.random.randn(N,DIM)-0.5)\n",
    "    acc = (np.random.randn(N,DIM)-0.5)\n",
    "\n",
    "    # Open file which we will save the outputs to\n",
    "    f = open('traj.xyz', 'w')\n",
    "    \n",
    "    for k in range(NSteps):\n",
    "        \n",
    "        # Refold positions according to periodic boundary conditions\n",
    "        for i in range(DIM):\n",
    "            period = np.where(pos[:,i] > 0.5)\n",
    "            pos[period,i]=pos[period,i]-1.0\n",
    "            period = np.where(pos[:,i] < -0.5)\n",
    "            pos[period,i]=pos[period,i]+1.0\n",
    "\n",
    "        # r(t+dt) modify positions according to velocity and acceleration\n",
    "        pos = pos + deltat*vel + 0.5*(deltat**2.0)*acc # Step 1\n",
    "\n",
    "        # Calculate temperature\n",
    "        start1 = default_timer()\n",
    "        ene_kin_aver[k],temperature[k] = Calculate_Temperature_cp(vel,BoxSize,DIM,N)\n",
    "        end1 = default_timer()\n",
    "        #print('Calculate_Temperature time: ', end - start)\n",
    "\n",
    "        # Rescale velocities and take half step\n",
    "        chi = np.sqrt(TRequested/temperature[k])\n",
    "        vel = chi*vel + 0.5*deltat*acc # v(t+dt/2) Step 2\n",
    "\n",
    "        # Compute forces a(t+dt),ene_pot,virial\n",
    "        start2 = default_timer()\n",
    "        #acc, ene_pot_aver[k], virial[k] = Compute_Forces(pos,acc,ene_pot,epsilon,BoxSize,DIM,N)\n",
    "        acc, ene_pot_aver[k], virial[k] = Compute_Forces_cp(cp.asarray(pos),cp.asarray(acc),cp.asarray(ene_pot),epsilon,BoxSize,DIM,N) # Step 3\n",
    "        end2 = default_timer()\n",
    "        #print('Compute_Forces time: ', end - start)\n",
    "\n",
    "        # Complete the velocity step \n",
    "        vel = vel + 0.5*deltat*acc # v(t+dt/2) Step 4\n",
    "\n",
    "        # Calculate temperature\n",
    "        ene_kin_aver[k],temperature[k] = Calculate_Temperature_cp(cp.asarray(vel),BoxSize,DIM,N)\n",
    "\n",
    "        # Calculate pressure\n",
    "        pressure[k]= density*temperature[k] + virial[k]/volume\n",
    "        \n",
    "        \n",
    "        # Print output to file every DumpFreq number of steps\n",
    "        if(k%DumpFreq==0): # The % symbol is the modulus so if the Step is a whole multiple of DumpFreq then print the values\n",
    "\n",
    "            f.write(\"%s\\n\" %(N)) # Write the number of particles to file\n",
    "            # Write all of the quantities at this step to the file\n",
    "            f.write(\"Energy %s, Temperature %.5f\\n\" %(ene_kin_aver[k]+ene_pot_aver[k],temperature[k]))\n",
    "            for n in range(N): # Write the positions to file\n",
    "                f.write(\"X\"+\" \")\n",
    "                for l in range(DIM):\n",
    "                    f.write(str(pos[n][l]*BoxSize)+\" \")\n",
    "                f.write(\"\\n\")\n",
    "            \n",
    "            '''if(DIM==2):\n",
    "                import matplotlib.pyplot as plt\n",
    "                from IPython import display\n",
    "                plt.cla()\n",
    "                plt.xlim(-0.5*BoxSize,0.5*BoxSize)\n",
    "                plt.ylim(-0.5*BoxSize,0.5*BoxSize)\n",
    "                for i in range(N):\n",
    "                    plt.plot(cp.asnumpy(pos[i,0])*BoxSize,cp.asnumpy(pos[i,1])*BoxSize,'o',markersize=20)\n",
    "                display.clear_output(wait=True)\n",
    "                display.display(plt.gcf())'''\n",
    "        #print(ene_kin_aver[k], ene_pot_aver[k], temperature[k], pressure[k]) \n",
    "\n",
    "    f.close() # Close the file\n",
    "    print('Calculate_Temperature time: ', end1 - start1)\n",
    "    print('Compute_Forces time: ', end2 - start2)\n",
    "    \n",
    "    return ene_kin_aver, ene_pot_aver, temperature, pressure, pos"
   ]
  },
  {
   "cell_type": "code",
   "execution_count": 20,
   "metadata": {},
   "outputs": [
    {
     "name": "stdout",
     "output_type": "stream",
     "text": [
      "Calculate_Temperature time:  2.214685082435608e-05\n",
      "Compute_Forces time:  0.00032440898939967155\n",
      "Time with CuPy:  15.99495194433257\n"
     ]
    }
   ],
   "source": [
    "start = default_timer()\n",
    "main_cp(pos,NSteps,deltat,TRequested,DumpFreq,epsilon,BoxSize,DIM)\n",
    "end = default_timer()\n",
    "print('Time with CuPy: ', end - start)"
   ]
  },
  {
   "cell_type": "code",
   "execution_count": null,
   "metadata": {},
   "outputs": [],
   "source": []
  }
 ],
 "metadata": {
  "celltoolbar": "Slideshow",
  "kernelspec": {
   "display_name": "Python 3",
   "language": "python",
   "name": "python3"
  },
  "language_info": {
   "codemirror_mode": {
    "name": "ipython",
    "version": 3
   },
   "file_extension": ".py",
   "mimetype": "text/x-python",
   "name": "python",
   "nbconvert_exporter": "python",
   "pygments_lexer": "ipython3",
   "version": "3.7.4"
  }
 },
 "nbformat": 4,
 "nbformat_minor": 2
}
